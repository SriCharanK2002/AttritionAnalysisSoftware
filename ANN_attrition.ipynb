{
  "cells": [
    {
      "cell_type": "code",
      "execution_count": null,
      "metadata": {
        "id": "BwzVYEYoNNeU"
      },
      "outputs": [],
      "source": [
        "import numpy as np\n",
        "import pandas as pd\n",
        "import matplotlib.pyplot as plt\n",
        "import seaborn as sns\n",
        "import tensorflow as tf\n",
        "import sklearn"
      ]
    },
    {
      "cell_type": "code",
      "execution_count": null,
      "metadata": {
        "id": "bkChgZ80O_xM"
      },
      "outputs": [],
      "source": [
        "dataset = pd.read_csv(\"attrition_data.csv\")"
      ]
    },
    {
      "cell_type": "code",
      "execution_count": null,
      "metadata": {
        "colab": {
          "base_uri": "https://localhost:8080/",
          "height": 369
        },
        "id": "YR4bXKYqPQGM",
        "outputId": "8aaa9532-9fed-49a4-b274-3162028620ab"
      },
      "outputs": [
        {
          "data": {
            "text/html": [
              "<div>\n",
              "<style scoped>\n",
              "    .dataframe tbody tr th:only-of-type {\n",
              "        vertical-align: middle;\n",
              "    }\n",
              "\n",
              "    .dataframe tbody tr th {\n",
              "        vertical-align: top;\n",
              "    }\n",
              "\n",
              "    .dataframe thead th {\n",
              "        text-align: right;\n",
              "    }\n",
              "</style>\n",
              "<table border=\"1\" class=\"dataframe\">\n",
              "  <thead>\n",
              "    <tr style=\"text-align: right;\">\n",
              "      <th></th>\n",
              "      <th>Age</th>\n",
              "      <th>Attrition</th>\n",
              "      <th>BusinessTravel</th>\n",
              "      <th>DailyRate</th>\n",
              "      <th>Department</th>\n",
              "      <th>DistanceFromHome</th>\n",
              "      <th>Education</th>\n",
              "      <th>EducationField</th>\n",
              "      <th>EmployeeCount</th>\n",
              "      <th>EmployeeNumber</th>\n",
              "      <th>...</th>\n",
              "      <th>RelationshipSatisfaction</th>\n",
              "      <th>StandardHours</th>\n",
              "      <th>StockOptionLevel</th>\n",
              "      <th>TotalWorkingYears</th>\n",
              "      <th>TrainingTimesLastYear</th>\n",
              "      <th>WorkLifeBalance</th>\n",
              "      <th>YearsAtCompany</th>\n",
              "      <th>YearsInCurrentRole</th>\n",
              "      <th>YearsSinceLastPromotion</th>\n",
              "      <th>YearsWithCurrManager</th>\n",
              "    </tr>\n",
              "  </thead>\n",
              "  <tbody>\n",
              "    <tr>\n",
              "      <th>0</th>\n",
              "      <td>41</td>\n",
              "      <td>Yes</td>\n",
              "      <td>Travel_Rarely</td>\n",
              "      <td>1102</td>\n",
              "      <td>Sales</td>\n",
              "      <td>1</td>\n",
              "      <td>2</td>\n",
              "      <td>Life Sciences</td>\n",
              "      <td>1</td>\n",
              "      <td>1</td>\n",
              "      <td>...</td>\n",
              "      <td>1</td>\n",
              "      <td>80</td>\n",
              "      <td>0</td>\n",
              "      <td>8</td>\n",
              "      <td>0</td>\n",
              "      <td>1</td>\n",
              "      <td>6</td>\n",
              "      <td>4</td>\n",
              "      <td>0</td>\n",
              "      <td>5</td>\n",
              "    </tr>\n",
              "    <tr>\n",
              "      <th>1</th>\n",
              "      <td>49</td>\n",
              "      <td>No</td>\n",
              "      <td>Travel_Frequently</td>\n",
              "      <td>279</td>\n",
              "      <td>Research &amp; Development</td>\n",
              "      <td>8</td>\n",
              "      <td>1</td>\n",
              "      <td>Life Sciences</td>\n",
              "      <td>1</td>\n",
              "      <td>2</td>\n",
              "      <td>...</td>\n",
              "      <td>4</td>\n",
              "      <td>80</td>\n",
              "      <td>1</td>\n",
              "      <td>10</td>\n",
              "      <td>3</td>\n",
              "      <td>3</td>\n",
              "      <td>10</td>\n",
              "      <td>7</td>\n",
              "      <td>1</td>\n",
              "      <td>7</td>\n",
              "    </tr>\n",
              "    <tr>\n",
              "      <th>2</th>\n",
              "      <td>37</td>\n",
              "      <td>Yes</td>\n",
              "      <td>Travel_Rarely</td>\n",
              "      <td>1373</td>\n",
              "      <td>Research &amp; Development</td>\n",
              "      <td>2</td>\n",
              "      <td>2</td>\n",
              "      <td>Other</td>\n",
              "      <td>1</td>\n",
              "      <td>4</td>\n",
              "      <td>...</td>\n",
              "      <td>2</td>\n",
              "      <td>80</td>\n",
              "      <td>0</td>\n",
              "      <td>7</td>\n",
              "      <td>3</td>\n",
              "      <td>3</td>\n",
              "      <td>0</td>\n",
              "      <td>0</td>\n",
              "      <td>0</td>\n",
              "      <td>0</td>\n",
              "    </tr>\n",
              "    <tr>\n",
              "      <th>3</th>\n",
              "      <td>33</td>\n",
              "      <td>No</td>\n",
              "      <td>Travel_Frequently</td>\n",
              "      <td>1392</td>\n",
              "      <td>Research &amp; Development</td>\n",
              "      <td>3</td>\n",
              "      <td>4</td>\n",
              "      <td>Life Sciences</td>\n",
              "      <td>1</td>\n",
              "      <td>5</td>\n",
              "      <td>...</td>\n",
              "      <td>3</td>\n",
              "      <td>80</td>\n",
              "      <td>0</td>\n",
              "      <td>8</td>\n",
              "      <td>3</td>\n",
              "      <td>3</td>\n",
              "      <td>8</td>\n",
              "      <td>7</td>\n",
              "      <td>3</td>\n",
              "      <td>0</td>\n",
              "    </tr>\n",
              "    <tr>\n",
              "      <th>4</th>\n",
              "      <td>27</td>\n",
              "      <td>No</td>\n",
              "      <td>Travel_Rarely</td>\n",
              "      <td>591</td>\n",
              "      <td>Research &amp; Development</td>\n",
              "      <td>2</td>\n",
              "      <td>1</td>\n",
              "      <td>Medical</td>\n",
              "      <td>1</td>\n",
              "      <td>7</td>\n",
              "      <td>...</td>\n",
              "      <td>4</td>\n",
              "      <td>80</td>\n",
              "      <td>1</td>\n",
              "      <td>6</td>\n",
              "      <td>3</td>\n",
              "      <td>3</td>\n",
              "      <td>2</td>\n",
              "      <td>2</td>\n",
              "      <td>2</td>\n",
              "      <td>2</td>\n",
              "    </tr>\n",
              "  </tbody>\n",
              "</table>\n",
              "<p>5 rows × 35 columns</p>\n",
              "</div>"
            ],
            "text/plain": [
              "   Age Attrition     BusinessTravel  DailyRate              Department  \\\n",
              "0   41       Yes      Travel_Rarely       1102                   Sales   \n",
              "1   49        No  Travel_Frequently        279  Research & Development   \n",
              "2   37       Yes      Travel_Rarely       1373  Research & Development   \n",
              "3   33        No  Travel_Frequently       1392  Research & Development   \n",
              "4   27        No      Travel_Rarely        591  Research & Development   \n",
              "\n",
              "   DistanceFromHome  Education EducationField  EmployeeCount  EmployeeNumber  \\\n",
              "0                 1          2  Life Sciences              1               1   \n",
              "1                 8          1  Life Sciences              1               2   \n",
              "2                 2          2          Other              1               4   \n",
              "3                 3          4  Life Sciences              1               5   \n",
              "4                 2          1        Medical              1               7   \n",
              "\n",
              "   ...  RelationshipSatisfaction StandardHours  StockOptionLevel  \\\n",
              "0  ...                         1            80                 0   \n",
              "1  ...                         4            80                 1   \n",
              "2  ...                         2            80                 0   \n",
              "3  ...                         3            80                 0   \n",
              "4  ...                         4            80                 1   \n",
              "\n",
              "   TotalWorkingYears  TrainingTimesLastYear WorkLifeBalance  YearsAtCompany  \\\n",
              "0                  8                      0               1               6   \n",
              "1                 10                      3               3              10   \n",
              "2                  7                      3               3               0   \n",
              "3                  8                      3               3               8   \n",
              "4                  6                      3               3               2   \n",
              "\n",
              "  YearsInCurrentRole  YearsSinceLastPromotion  YearsWithCurrManager  \n",
              "0                  4                        0                     5  \n",
              "1                  7                        1                     7  \n",
              "2                  0                        0                     0  \n",
              "3                  7                        3                     0  \n",
              "4                  2                        2                     2  \n",
              "\n",
              "[5 rows x 35 columns]"
            ]
          },
          "execution_count": 9,
          "metadata": {},
          "output_type": "execute_result"
        }
      ],
      "source": [
        "dataset.head()"
      ]
    },
    {
      "cell_type": "code",
      "execution_count": null,
      "metadata": {
        "id": "TvokyzLlHVKf"
      },
      "outputs": [],
      "source": [
        "dataset.values[1,21]\n",
        "dataset =dataset.drop([\"Over18\"], axis = 1)"
      ]
    },
    {
      "cell_type": "code",
      "execution_count": null,
      "metadata": {
        "colab": {
          "base_uri": "https://localhost:8080/"
        },
        "id": "SqlRAzjyHqce",
        "outputId": "06e5ee6e-49a3-47bc-9209-68deecb628b9"
      },
      "outputs": [
        {
          "data": {
            "text/plain": [
              "array([49, 'No', 'Travel_Frequently', 279, 'Research & Development', 8, 1,\n",
              "       'Life Sciences', 1, 2, 3, 'Male', 61, 2, 2, 'Research Scientist',\n",
              "       2, 'Married', 5130, 24907, 1, 'No', 23, 4, 4, 80, 1, 10, 3, 3, 10,\n",
              "       7, 1, 7], dtype=object)"
            ]
          },
          "execution_count": 11,
          "metadata": {},
          "output_type": "execute_result"
        }
      ],
      "source": [
        "dataset.values[1]"
      ]
    },
    {
      "cell_type": "code",
      "execution_count": null,
      "metadata": {
        "colab": {
          "base_uri": "https://localhost:8080/"
        },
        "id": "jXInMgVyPytO",
        "outputId": "01d79e95-88c5-40b0-ceb4-af9dffae7fbc"
      },
      "outputs": [
        {
          "name": "stdout",
          "output_type": "stream",
          "text": [
            "['Yes' 'No' 'Yes' ... 'No' 'No' 'No']\n"
          ]
        },
        {
          "data": {
            "text/plain": [
              "(1470,)"
            ]
          },
          "execution_count": 12,
          "metadata": {},
          "output_type": "execute_result"
        }
      ],
      "source": [
        "Y = dataset.iloc[:, 1].values\n",
        "print(Y)\n",
        "Y = np.array(Y)\n",
        "type(Y)\n",
        "Y.shape"
      ]
    },
    {
      "cell_type": "code",
      "execution_count": null,
      "metadata": {
        "colab": {
          "base_uri": "https://localhost:8080/"
        },
        "id": "ChUSsKXGJj9k",
        "outputId": "2a74bb07-87b1-4efb-ce9e-a1b46f94e63e"
      },
      "outputs": [
        {
          "name": "stdout",
          "output_type": "stream",
          "text": [
            "[1 0 1 ... 0 0 0]\n",
            "0\n",
            "1\n"
          ]
        }
      ],
      "source": [
        "# Encoding gender column\n",
        "from sklearn.preprocessing import LabelEncoder\n",
        "le = LabelEncoder()\n",
        "Y = le.fit_transform(Y)\n",
        "print(Y)\n",
        "print(Y[1])\n",
        "print(Y[0])"
      ]
    },
    {
      "cell_type": "code",
      "execution_count": null,
      "metadata": {
        "id": "DA_PpO6cSNV3"
      },
      "outputs": [],
      "source": [
        "X = dataset.drop(dataset.columns[1], axis =1)\n",
        "X = X.values"
      ]
    },
    {
      "cell_type": "code",
      "execution_count": null,
      "metadata": {
        "colab": {
          "base_uri": "https://localhost:8080/"
        },
        "id": "BpVEnhtRKbYU",
        "outputId": "51daf353-58fe-421a-b0a7-6c007640d4a3"
      },
      "outputs": [
        {
          "data": {
            "text/plain": [
              "numpy.ndarray"
            ]
          },
          "execution_count": 15,
          "metadata": {},
          "output_type": "execute_result"
        }
      ],
      "source": [
        "type(X)"
      ]
    },
    {
      "cell_type": "code",
      "execution_count": null,
      "metadata": {
        "colab": {
          "base_uri": "https://localhost:8080/"
        },
        "id": "6T3HKykPS0pb",
        "outputId": "1d2a0a09-3bcd-4227-ecb7-f0950058ef04"
      },
      "outputs": [
        {
          "name": "stdout",
          "output_type": "stream",
          "text": [
            "[49 'Travel_Frequently' 279 'Research & Development' 8 1 'Life Sciences' 1\n",
            " 2 3 'Male' 61 2 2 'Research Scientist' 2 'Married' 5130 24907 1 'No' 23 4\n",
            " 4 80 1 10 3 3 10 7 1 7]\n"
          ]
        }
      ],
      "source": [
        "print(X[1])"
      ]
    },
    {
      "cell_type": "code",
      "execution_count": null,
      "metadata": {
        "id": "Ic-UB8TqPT5C"
      },
      "outputs": [],
      "source": [
        "# Encoding gender column\n",
        "from sklearn.preprocessing import LabelEncoder\n",
        "le = LabelEncoder()\n",
        "X[: ,10] = le.fit_transform(X[:, 10])"
      ]
    },
    {
      "cell_type": "code",
      "execution_count": null,
      "metadata": {
        "colab": {
          "base_uri": "https://localhost:8080/"
        },
        "id": "-PlzDANjVB9x",
        "outputId": "a477066c-049f-4490-bc78-dda0fdad6d60"
      },
      "outputs": [
        {
          "name": "stdout",
          "output_type": "stream",
          "text": [
            "[49 'Travel_Frequently' 279 'Research & Development' 8 1 'Life Sciences' 1\n",
            " 2 3 1 61 2 2 'Research Scientist' 2 'Married' 5130 24907 1 'No' 23 4 4 80\n",
            " 1 10 3 3 10 7 1 7]\n"
          ]
        }
      ],
      "source": [
        "print(X[1])"
      ]
    },
    {
      "cell_type": "code",
      "execution_count": null,
      "metadata": {
        "id": "mnm9mcZVVTgN"
      },
      "outputs": [],
      "source": [
        "#One hot encoding business travel column\n",
        "from sklearn.compose import ColumnTransformer\n",
        "from sklearn.preprocessing import OneHotEncoder\n",
        "ct = ColumnTransformer(transformers=[('encoder', OneHotEncoder(), [1])], remainder= \"passthrough\")\n",
        "X = np.array(ct.fit_transform(X))"
      ]
    },
    {
      "cell_type": "code",
      "execution_count": null,
      "metadata": {
        "colab": {
          "base_uri": "https://localhost:8080/"
        },
        "id": "wJKyiMGFEPIG",
        "outputId": "6ed95f27-2d8e-4c62-b8e6-c712f438867f"
      },
      "outputs": [
        {
          "name": "stdout",
          "output_type": "stream",
          "text": [
            "[0.0 1.0 0.0 49 279 'Research & Development' 8 1 'Life Sciences' 1 2 3 1\n",
            " 61 2 2 'Research Scientist' 2 'Married' 5130 24907 1 'No' 23 4 4 80 1 10\n",
            " 3 3 10 7 1 7]\n"
          ]
        }
      ],
      "source": [
        "print(X[1])"
      ]
    },
    {
      "cell_type": "code",
      "execution_count": null,
      "metadata": {
        "colab": {
          "base_uri": "https://localhost:8080/"
        },
        "id": "sh8UoQOYE5iS",
        "outputId": "3030d81e-52c6-4867-a33e-fa37ae033a15"
      },
      "outputs": [
        {
          "name": "stdout",
          "output_type": "stream",
          "text": [
            "Life Sciences\n"
          ]
        }
      ],
      "source": [
        "print(X[1,8])"
      ]
    },
    {
      "cell_type": "code",
      "execution_count": null,
      "metadata": {
        "id": "RFb9OEh4FRHm"
      },
      "outputs": [],
      "source": [
        "#One hot encoding education column\n",
        "from sklearn.compose import ColumnTransformer\n",
        "from sklearn.preprocessing import OneHotEncoder\n",
        "ct = ColumnTransformer(transformers=[('encoder', OneHotEncoder(), [8])], remainder= \"passthrough\")\n",
        "X = np.array(ct.fit_transform(X))"
      ]
    },
    {
      "cell_type": "code",
      "execution_count": null,
      "metadata": {
        "colab": {
          "base_uri": "https://localhost:8080/"
        },
        "id": "J2mizvB0FUF0",
        "outputId": "97f21b10-9d17-46fd-8d52-4f39bcebe084"
      },
      "outputs": [
        {
          "name": "stdout",
          "output_type": "stream",
          "text": [
            "[0.0 1.0 0.0 0.0 0.0 0.0 0.0 1.0 0.0 49 279 'Research & Development' 8 1 1\n",
            " 2 3 1 61 2 2 'Research Scientist' 2 'Married' 5130 24907 1 'No' 23 4 4 80\n",
            " 1 10 3 3 10 7 1 7]\n"
          ]
        }
      ],
      "source": [
        "print(X[1])"
      ]
    },
    {
      "cell_type": "code",
      "execution_count": null,
      "metadata": {
        "colab": {
          "base_uri": "https://localhost:8080/"
        },
        "id": "Hn-8nXf3Fef6",
        "outputId": "7004e4de-7d06-42f9-bc66-8d6977016eed"
      },
      "outputs": [
        {
          "name": "stdout",
          "output_type": "stream",
          "text": [
            "Research & Development\n"
          ]
        }
      ],
      "source": [
        "print(X[1,11])"
      ]
    },
    {
      "cell_type": "code",
      "execution_count": null,
      "metadata": {
        "id": "2AE33q4RFWec"
      },
      "outputs": [],
      "source": [
        "#One hot encoding DEPARTMENT column\n",
        "from sklearn.compose import ColumnTransformer\n",
        "from sklearn.preprocessing import OneHotEncoder\n",
        "ct = ColumnTransformer(transformers=[('encoder', OneHotEncoder(), [11])], remainder= \"passthrough\")\n",
        "X = np.array(ct.fit_transform(X))"
      ]
    },
    {
      "cell_type": "code",
      "execution_count": null,
      "metadata": {
        "colab": {
          "base_uri": "https://localhost:8080/"
        },
        "id": "2PrrxDjNFkHF",
        "outputId": "66854aef-460b-4557-fcab-d6d4d3964d91"
      },
      "outputs": [
        {
          "name": "stdout",
          "output_type": "stream",
          "text": [
            "[0.0 1.0 0.0 0.0 1.0 0.0 0.0 0.0 0.0 0.0 1.0 0.0 49 279 8 1 1 2 3 1 61 2 2\n",
            " 'Research Scientist' 2 'Married' 5130 24907 1 'No' 23 4 4 80 1 10 3 3 10\n",
            " 7 1 7]\n"
          ]
        }
      ],
      "source": [
        "print(X[1])"
      ]
    },
    {
      "cell_type": "code",
      "execution_count": null,
      "metadata": {
        "colab": {
          "base_uri": "https://localhost:8080/"
        },
        "id": "YXdRXKFhFttg",
        "outputId": "faa383ca-b371-4b4e-ef69-cf4073dd5511"
      },
      "outputs": [
        {
          "name": "stdout",
          "output_type": "stream",
          "text": [
            "Research Scientist\n"
          ]
        }
      ],
      "source": [
        "print(X[1,23])"
      ]
    },
    {
      "cell_type": "code",
      "execution_count": null,
      "metadata": {
        "id": "2pJKaLAsFl1y"
      },
      "outputs": [],
      "source": [
        "#One hot encoding JobRole column\n",
        "from sklearn.compose import ColumnTransformer\n",
        "from sklearn.preprocessing import OneHotEncoder\n",
        "ct = ColumnTransformer(transformers=[('encoder', OneHotEncoder(), [23])], remainder= \"passthrough\")\n",
        "X = np.array(ct.fit_transform(X))"
      ]
    },
    {
      "cell_type": "code",
      "execution_count": null,
      "metadata": {
        "colab": {
          "base_uri": "https://localhost:8080/"
        },
        "id": "SyPfW8V0F2eB",
        "outputId": "1b02bafa-0b7d-40fb-d70c-485dfaa79bed"
      },
      "outputs": [
        {
          "name": "stdout",
          "output_type": "stream",
          "text": [
            "[0.0 0.0 0.0 0.0 0.0 0.0 1.0 0.0 0.0 0.0 1.0 0.0 0.0 1.0 0.0 0.0 0.0 0.0\n",
            " 0.0 1.0 0.0 49 279 8 1 1 2 3 1 61 2 2 2 'Married' 5130 24907 1 'No' 23 4\n",
            " 4 80 1 10 3 3 10 7 1 7]\n"
          ]
        }
      ],
      "source": [
        "print(X[1])"
      ]
    },
    {
      "cell_type": "code",
      "execution_count": null,
      "metadata": {
        "colab": {
          "base_uri": "https://localhost:8080/"
        },
        "id": "wqpN6r3oF3lh",
        "outputId": "e48bf78c-4e3e-49c8-8bf8-24e2f2c17cf7"
      },
      "outputs": [
        {
          "name": "stdout",
          "output_type": "stream",
          "text": [
            "Married\n"
          ]
        }
      ],
      "source": [
        "print(X[1,33])"
      ]
    },
    {
      "cell_type": "code",
      "execution_count": null,
      "metadata": {
        "id": "WO1YPGZkGBdL"
      },
      "outputs": [],
      "source": [
        "#One hot encoding Marital Status column\n",
        "from sklearn.compose import ColumnTransformer\n",
        "from sklearn.preprocessing import OneHotEncoder\n",
        "ct = ColumnTransformer(transformers=[('encoder', OneHotEncoder(), [33])], remainder= \"passthrough\")\n",
        "X = np.array(ct.fit_transform(X))"
      ]
    },
    {
      "cell_type": "code",
      "execution_count": null,
      "metadata": {
        "colab": {
          "base_uri": "https://localhost:8080/"
        },
        "id": "mhWs7bXXGEzE",
        "outputId": "314b5a2f-0bfd-4025-dda8-fe4726f9a3b6"
      },
      "outputs": [
        {
          "name": "stdout",
          "output_type": "stream",
          "text": [
            "[0.0 1.0 0.0 0.0 0.0 0.0 0.0 0.0 0.0 1.0 0.0 0.0 0.0 1.0 0.0 0.0 1.0 0.0\n",
            " 0.0 0.0 0.0 0.0 1.0 0.0 49 279 8 1 1 2 3 1 61 2 2 2 5130 24907 1 'No' 23\n",
            " 4 4 80 1 10 3 3 10 7 1 7]\n"
          ]
        }
      ],
      "source": [
        "print(X[1])"
      ]
    },
    {
      "cell_type": "code",
      "execution_count": null,
      "metadata": {
        "colab": {
          "base_uri": "https://localhost:8080/"
        },
        "id": "4MV-m_L0GMAD",
        "outputId": "7e5e4971-8d34-4dee-fd84-0d63397693c6"
      },
      "outputs": [
        {
          "name": "stdout",
          "output_type": "stream",
          "text": [
            "No\n"
          ]
        }
      ],
      "source": [
        "print(X[1,-13])"
      ]
    },
    {
      "cell_type": "code",
      "execution_count": null,
      "metadata": {
        "id": "gTzXClphGkZr"
      },
      "outputs": [],
      "source": [
        "# Encoding overtime column\n",
        "from sklearn.preprocessing import LabelEncoder\n",
        "le = LabelEncoder()\n",
        "X[: ,-13] = le.fit_transform(X[:, -13])"
      ]
    },
    {
      "cell_type": "code",
      "execution_count": null,
      "metadata": {
        "colab": {
          "base_uri": "https://localhost:8080/"
        },
        "id": "MTC1GSuAIUa8",
        "outputId": "8e413a30-dc75-4e0c-81b4-cd854a3519db"
      },
      "outputs": [
        {
          "name": "stdout",
          "output_type": "stream",
          "text": [
            "0\n"
          ]
        }
      ],
      "source": [
        "print(X[1,-13])"
      ]
    },
    {
      "cell_type": "code",
      "execution_count": null,
      "metadata": {
        "colab": {
          "base_uri": "https://localhost:8080/"
        },
        "id": "4kO6pinjIW1F",
        "outputId": "c1c533f4-c2f4-41b2-c461-a39b019c61af"
      },
      "outputs": [
        {
          "name": "stdout",
          "output_type": "stream",
          "text": [
            "[0.0 1.0 0.0 0.0 0.0 0.0 0.0 0.0 0.0 1.0 0.0 0.0 0.0 1.0 0.0 0.0 1.0 0.0\n",
            " 0.0 0.0 0.0 0.0 1.0 0.0 49 279 8 1 1 2 3 1 61 2 2 2 5130 24907 1 0 23 4 4\n",
            " 80 1 10 3 3 10 7 1 7]\n"
          ]
        }
      ],
      "source": [
        "print(X[1])"
      ]
    },
    {
      "cell_type": "code",
      "execution_count": null,
      "metadata": {
        "id": "T4xS1GgCIvOz"
      },
      "outputs": [],
      "source": [
        "from sklearn.model_selection import train_test_split\n",
        "X_train, X_test, y_train, y_test = train_test_split(X, Y , test_size = 0.2, random_state = 0)"
      ]
    },
    {
      "cell_type": "code",
      "execution_count": null,
      "metadata": {},
      "outputs": [
        {
          "name": "stdout",
          "output_type": "stream",
          "text": [
            "[-0.54065487  1.11547067 -0.69900472 -0.30151134 -0.1948136  -0.4662524\n",
            "  3.6767538  -0.3323877  -0.23791548 -0.50636968 -0.53013748 -0.2438431\n",
            " -0.21724413 -1.38234984  1.53311035 -0.14123725  1.18321596 -0.34332306\n",
            " -0.68021068 -0.23186945 -0.31637564 -0.34641016 -0.479714    0.64565275\n",
            "  2.3389367  -0.48557354  1.45567735  0.08087412  0.          1.53241985\n",
            "  1.13998967 -1.24094996  0.33865726  0.38547835  1.7590273   1.14972558\n",
            "  2.41725694 -0.34865414  0.514544    1.62507442 -0.58948704 -0.42092419\n",
            "  0.26452003  0.          0.22505569  2.30343322 -0.6134953  -1.07224664\n",
            " -0.98200785 -1.15684058 -0.67381506 -1.15043886]\n"
          ]
        }
      ],
      "source": [
        "print(X_train[0])"
      ]
    },
    {
      "cell_type": "code",
      "execution_count": null,
      "metadata": {
        "id": "BdDHis_3IwyS"
      },
      "outputs": [],
      "source": [
        "from sklearn.preprocessing import StandardScaler\n",
        "X_train = StandardScaler().fit_transform(X_train)\n",
        "X_test = StandardScaler().fit_transform(X_test)"
      ]
    },
    {
      "cell_type": "code",
      "execution_count": null,
      "metadata": {
        "id": "L9SwOGuNI0f8"
      },
      "outputs": [],
      "source": [
        "ann = tf.keras.models.Sequential()\n",
        "ann.add(tf.keras.layers.Dense(units = 6, activation = \"relu\" ))\n",
        "ann.add(tf.keras.layers.Dense(units = 6, activation = \"relu\"))\n",
        "ann.add(tf.keras.layers.Dense(units = 1, activation = \"sigmoid\"))"
      ]
    },
    {
      "cell_type": "code",
      "execution_count": null,
      "metadata": {
        "id": "WRUpJWTPI3p-"
      },
      "outputs": [],
      "source": [
        "ann.compile(optimizer = \"adam\", loss = \"binary_crossentropy\", metrics = [\"accuracy\"])"
      ]
    },
    {
      "cell_type": "code",
      "execution_count": null,
      "metadata": {
        "colab": {
          "base_uri": "https://localhost:8080/"
        },
        "id": "sCDxqNoeIlx8",
        "outputId": "fadea5cf-2cf9-4e81-eae2-8e32ff5861fc"
      },
      "outputs": [
        {
          "name": "stdout",
          "output_type": "stream",
          "text": [
            "Epoch 1/100\n",
            "37/37 [==============================] - 0s 1ms/step - loss: 0.5053 - accuracy: 0.8282\n",
            "Epoch 2/100\n",
            "37/37 [==============================] - 0s 1ms/step - loss: 0.4669 - accuracy: 0.8401\n",
            "Epoch 3/100\n",
            "37/37 [==============================] - 0s 982us/step - loss: 0.4405 - accuracy: 0.8401\n",
            "Epoch 4/100\n",
            "37/37 [==============================] - 0s 960us/step - loss: 0.4203 - accuracy: 0.8401\n",
            "Epoch 5/100\n",
            "37/37 [==============================] - 0s 778us/step - loss: 0.4042 - accuracy: 0.8401\n",
            "Epoch 6/100\n",
            "37/37 [==============================] - 0s 784us/step - loss: 0.3918 - accuracy: 0.8401\n",
            "Epoch 7/100\n",
            "37/37 [==============================] - 0s 828us/step - loss: 0.3816 - accuracy: 0.8401\n",
            "Epoch 8/100\n",
            "37/37 [==============================] - 0s 806us/step - loss: 0.3727 - accuracy: 0.8401\n",
            "Epoch 9/100\n",
            "37/37 [==============================] - 0s 807us/step - loss: 0.3652 - accuracy: 0.8401\n",
            "Epoch 10/100\n",
            "37/37 [==============================] - 0s 775us/step - loss: 0.3586 - accuracy: 0.8401\n",
            "Epoch 11/100\n",
            "37/37 [==============================] - 0s 835us/step - loss: 0.3525 - accuracy: 0.8401\n",
            "Epoch 12/100\n",
            "37/37 [==============================] - 0s 738us/step - loss: 0.3476 - accuracy: 0.8401\n",
            "Epoch 13/100\n",
            "37/37 [==============================] - 0s 841us/step - loss: 0.3424 - accuracy: 0.8427\n",
            "Epoch 14/100\n",
            "37/37 [==============================] - 0s 834us/step - loss: 0.3378 - accuracy: 0.8435\n",
            "Epoch 15/100\n",
            "37/37 [==============================] - 0s 883us/step - loss: 0.3340 - accuracy: 0.8486\n",
            "Epoch 16/100\n",
            "37/37 [==============================] - 0s 876us/step - loss: 0.3292 - accuracy: 0.8512\n",
            "Epoch 17/100\n",
            "37/37 [==============================] - 0s 1ms/step - loss: 0.3255 - accuracy: 0.8554\n",
            "Epoch 18/100\n",
            "37/37 [==============================] - 0s 987us/step - loss: 0.3218 - accuracy: 0.8546\n",
            "Epoch 19/100\n",
            "37/37 [==============================] - 0s 1ms/step - loss: 0.3187 - accuracy: 0.8588\n",
            "Epoch 20/100\n",
            "37/37 [==============================] - 0s 1ms/step - loss: 0.3148 - accuracy: 0.8682\n",
            "Epoch 21/100\n",
            "37/37 [==============================] - 0s 1ms/step - loss: 0.3109 - accuracy: 0.8716\n",
            "Epoch 22/100\n",
            "37/37 [==============================] - 0s 1ms/step - loss: 0.3069 - accuracy: 0.8716\n",
            "Epoch 23/100\n",
            "37/37 [==============================] - 0s 1ms/step - loss: 0.3033 - accuracy: 0.8784\n",
            "Epoch 24/100\n",
            "37/37 [==============================] - 0s 1ms/step - loss: 0.2994 - accuracy: 0.8801\n",
            "Epoch 25/100\n",
            "37/37 [==============================] - 0s 1ms/step - loss: 0.2953 - accuracy: 0.8818\n",
            "Epoch 26/100\n",
            "37/37 [==============================] - 0s 1ms/step - loss: 0.2920 - accuracy: 0.8810\n",
            "Epoch 27/100\n",
            "37/37 [==============================] - 0s 1ms/step - loss: 0.2884 - accuracy: 0.8869\n",
            "Epoch 28/100\n",
            "37/37 [==============================] - 0s 1ms/step - loss: 0.2851 - accuracy: 0.8869\n",
            "Epoch 29/100\n",
            "37/37 [==============================] - 0s 1ms/step - loss: 0.2811 - accuracy: 0.8903\n",
            "Epoch 30/100\n",
            "37/37 [==============================] - 0s 1ms/step - loss: 0.2778 - accuracy: 0.8895\n",
            "Epoch 31/100\n",
            "37/37 [==============================] - 0s 1ms/step - loss: 0.2745 - accuracy: 0.8886\n",
            "Epoch 32/100\n",
            "37/37 [==============================] - 0s 1ms/step - loss: 0.2709 - accuracy: 0.8912\n",
            "Epoch 33/100\n",
            "37/37 [==============================] - 0s 1ms/step - loss: 0.2677 - accuracy: 0.8912\n",
            "Epoch 34/100\n",
            "37/37 [==============================] - 0s 1ms/step - loss: 0.2645 - accuracy: 0.8971\n",
            "Epoch 35/100\n",
            "37/37 [==============================] - 0s 1ms/step - loss: 0.2616 - accuracy: 0.8971\n",
            "Epoch 36/100\n",
            "37/37 [==============================] - 0s 1ms/step - loss: 0.2585 - accuracy: 0.8997\n",
            "Epoch 37/100\n",
            "37/37 [==============================] - 0s 1ms/step - loss: 0.2561 - accuracy: 0.8988\n",
            "Epoch 38/100\n",
            "37/37 [==============================] - 0s 1ms/step - loss: 0.2533 - accuracy: 0.9014\n",
            "Epoch 39/100\n",
            "37/37 [==============================] - 0s 1ms/step - loss: 0.2504 - accuracy: 0.9031\n",
            "Epoch 40/100\n",
            "37/37 [==============================] - 0s 1ms/step - loss: 0.2481 - accuracy: 0.9022\n",
            "Epoch 41/100\n",
            "37/37 [==============================] - 0s 1ms/step - loss: 0.2462 - accuracy: 0.9014\n",
            "Epoch 42/100\n",
            "37/37 [==============================] - 0s 940us/step - loss: 0.2431 - accuracy: 0.9022\n",
            "Epoch 43/100\n",
            "37/37 [==============================] - 0s 889us/step - loss: 0.2410 - accuracy: 0.9065\n",
            "Epoch 44/100\n",
            "37/37 [==============================] - 0s 1ms/step - loss: 0.2383 - accuracy: 0.9082\n",
            "Epoch 45/100\n",
            "37/37 [==============================] - 0s 1ms/step - loss: 0.2357 - accuracy: 0.9073\n",
            "Epoch 46/100\n",
            "37/37 [==============================] - 0s 1ms/step - loss: 0.2339 - accuracy: 0.9099\n",
            "Epoch 47/100\n",
            "37/37 [==============================] - 0s 1ms/step - loss: 0.2325 - accuracy: 0.9090\n",
            "Epoch 48/100\n",
            "37/37 [==============================] - 0s 2ms/step - loss: 0.2300 - accuracy: 0.9099\n",
            "Epoch 49/100\n",
            "37/37 [==============================] - 0s 1ms/step - loss: 0.2282 - accuracy: 0.9107\n",
            "Epoch 50/100\n",
            "37/37 [==============================] - 0s 1ms/step - loss: 0.2270 - accuracy: 0.9056\n",
            "Epoch 51/100\n",
            "37/37 [==============================] - 0s 1ms/step - loss: 0.2247 - accuracy: 0.9124\n",
            "Epoch 52/100\n",
            "37/37 [==============================] - 0s 1ms/step - loss: 0.2226 - accuracy: 0.9141\n",
            "Epoch 53/100\n",
            "37/37 [==============================] - 0s 1ms/step - loss: 0.2214 - accuracy: 0.9107\n",
            "Epoch 54/100\n",
            "37/37 [==============================] - 0s 972us/step - loss: 0.2194 - accuracy: 0.9150\n",
            "Epoch 55/100\n",
            "37/37 [==============================] - 0s 912us/step - loss: 0.2184 - accuracy: 0.9150\n",
            "Epoch 56/100\n",
            "37/37 [==============================] - 0s 843us/step - loss: 0.2168 - accuracy: 0.9133\n",
            "Epoch 57/100\n",
            "37/37 [==============================] - 0s 1ms/step - loss: 0.2154 - accuracy: 0.9124\n",
            "Epoch 58/100\n",
            "37/37 [==============================] - 0s 1ms/step - loss: 0.2138 - accuracy: 0.9150\n",
            "Epoch 59/100\n",
            "37/37 [==============================] - 0s 944us/step - loss: 0.2132 - accuracy: 0.9158\n",
            "Epoch 60/100\n",
            "37/37 [==============================] - 0s 854us/step - loss: 0.2112 - accuracy: 0.9158\n",
            "Epoch 61/100\n",
            "37/37 [==============================] - 0s 867us/step - loss: 0.2099 - accuracy: 0.9175\n",
            "Epoch 62/100\n",
            "37/37 [==============================] - 0s 917us/step - loss: 0.2078 - accuracy: 0.9192\n",
            "Epoch 63/100\n",
            "37/37 [==============================] - 0s 971us/step - loss: 0.2076 - accuracy: 0.9158\n",
            "Epoch 64/100\n",
            "37/37 [==============================] - 0s 897us/step - loss: 0.2066 - accuracy: 0.9192\n",
            "Epoch 65/100\n",
            "37/37 [==============================] - 0s 806us/step - loss: 0.2054 - accuracy: 0.9201\n",
            "Epoch 66/100\n",
            "37/37 [==============================] - 0s 834us/step - loss: 0.2032 - accuracy: 0.9226\n",
            "Epoch 67/100\n",
            "37/37 [==============================] - 0s 764us/step - loss: 0.2022 - accuracy: 0.9235\n",
            "Epoch 68/100\n",
            "37/37 [==============================] - 0s 854us/step - loss: 0.2010 - accuracy: 0.9235\n",
            "Epoch 69/100\n",
            "37/37 [==============================] - 0s 931us/step - loss: 0.2000 - accuracy: 0.9209\n",
            "Epoch 70/100\n",
            "37/37 [==============================] - 0s 897us/step - loss: 0.1989 - accuracy: 0.9226\n",
            "Epoch 71/100\n",
            "37/37 [==============================] - 0s 861us/step - loss: 0.1983 - accuracy: 0.9235\n",
            "Epoch 72/100\n",
            "37/37 [==============================] - 0s 1ms/step - loss: 0.1968 - accuracy: 0.9226\n",
            "Epoch 73/100\n",
            "37/37 [==============================] - 0s 889us/step - loss: 0.1960 - accuracy: 0.9260\n",
            "Epoch 74/100\n",
            "37/37 [==============================] - 0s 861us/step - loss: 0.1956 - accuracy: 0.9252\n",
            "Epoch 75/100\n",
            "37/37 [==============================] - 0s 840us/step - loss: 0.1936 - accuracy: 0.9294\n",
            "Epoch 76/100\n",
            "37/37 [==============================] - 0s 807us/step - loss: 0.1933 - accuracy: 0.9277\n",
            "Epoch 77/100\n",
            "37/37 [==============================] - 0s 944us/step - loss: 0.1920 - accuracy: 0.9269\n",
            "Epoch 78/100\n",
            "37/37 [==============================] - 0s 891us/step - loss: 0.1912 - accuracy: 0.9277\n",
            "Epoch 79/100\n",
            "37/37 [==============================] - 0s 842us/step - loss: 0.1896 - accuracy: 0.9269\n",
            "Epoch 80/100\n",
            "37/37 [==============================] - 0s 800us/step - loss: 0.1881 - accuracy: 0.9286\n",
            "Epoch 81/100\n",
            "37/37 [==============================] - 0s 770us/step - loss: 0.1873 - accuracy: 0.9303\n",
            "Epoch 82/100\n",
            "37/37 [==============================] - 0s 917us/step - loss: 0.1864 - accuracy: 0.9320\n",
            "Epoch 83/100\n",
            "37/37 [==============================] - 0s 861us/step - loss: 0.1858 - accuracy: 0.9294\n",
            "Epoch 84/100\n",
            "37/37 [==============================] - 0s 780us/step - loss: 0.1841 - accuracy: 0.9303\n",
            "Epoch 85/100\n",
            "37/37 [==============================] - 0s 806us/step - loss: 0.1830 - accuracy: 0.9311\n",
            "Epoch 86/100\n",
            "37/37 [==============================] - 0s 833us/step - loss: 0.1821 - accuracy: 0.9328\n",
            "Epoch 87/100\n",
            "37/37 [==============================] - 0s 949us/step - loss: 0.1808 - accuracy: 0.9286\n",
            "Epoch 88/100\n",
            "37/37 [==============================] - 0s 834us/step - loss: 0.1800 - accuracy: 0.9328\n",
            "Epoch 89/100\n",
            "37/37 [==============================] - 0s 945us/step - loss: 0.1789 - accuracy: 0.9337\n",
            "Epoch 90/100\n",
            "37/37 [==============================] - 0s 862us/step - loss: 0.1778 - accuracy: 0.9345\n",
            "Epoch 91/100\n",
            "37/37 [==============================] - 0s 830us/step - loss: 0.1772 - accuracy: 0.9328\n",
            "Epoch 92/100\n",
            "37/37 [==============================] - 0s 945us/step - loss: 0.1764 - accuracy: 0.9337\n",
            "Epoch 93/100\n",
            "37/37 [==============================] - 0s 849us/step - loss: 0.1753 - accuracy: 0.9362\n",
            "Epoch 94/100\n",
            "37/37 [==============================] - 0s 808us/step - loss: 0.1739 - accuracy: 0.9345\n",
            "Epoch 95/100\n",
            "37/37 [==============================] - 0s 833us/step - loss: 0.1737 - accuracy: 0.9345\n",
            "Epoch 96/100\n",
            "37/37 [==============================] - 0s 1ms/step - loss: 0.1728 - accuracy: 0.9379\n",
            "Epoch 97/100\n",
            "37/37 [==============================] - 0s 917us/step - loss: 0.1715 - accuracy: 0.9371\n",
            "Epoch 98/100\n",
            "37/37 [==============================] - 0s 834us/step - loss: 0.1713 - accuracy: 0.9345\n",
            "Epoch 99/100\n",
            "37/37 [==============================] - 0s 866us/step - loss: 0.1701 - accuracy: 0.9362\n",
            "Epoch 100/100\n",
            "37/37 [==============================] - 0s 806us/step - loss: 0.1693 - accuracy: 0.9328\n"
          ]
        },
        {
          "data": {
            "text/plain": [
              "<keras.callbacks.History at 0x1f74ec1ecb0>"
            ]
          },
          "execution_count": 41,
          "metadata": {},
          "output_type": "execute_result"
        }
      ],
      "source": [
        "ann.fit(X_train, y_train, batch_size= 32, epochs = 100)"
      ]
    },
    {
      "cell_type": "code",
      "execution_count": null,
      "metadata": {
        "colab": {
          "base_uri": "https://localhost:8080/"
        },
        "id": "58NyBPEhMmZA",
        "outputId": "4055b66b-585b-4a10-b7dd-2be9bf031c3d"
      },
      "outputs": [
        {
          "name": "stdout",
          "output_type": "stream",
          "text": [
            "10/10 [==============================] - 0s 890us/step\n"
          ]
        }
      ],
      "source": [
        "y_pred = ann.predict(X_test)\n",
        "y_pred = (y_pred > 0.5)\n",
        "# print(np.concatenate((y_pred.reshape(len(y_pred),1), y_test.reshape(len(y_test),1)),1))"
      ]
    },
    {
      "cell_type": "code",
      "execution_count": null,
      "metadata": {
        "colab": {
          "base_uri": "https://localhost:8080/"
        },
        "id": "hyQSv4QOU9vm",
        "outputId": "f98659a8-834c-4217-83f4-c743a6b2458b"
      },
      "outputs": [
        {
          "name": "stdout",
          "output_type": "stream",
          "text": [
            " Precision Score: 0.6285714285714286\n",
            " Recall Score : 0.4489795918367347\n"
          ]
        }
      ],
      "source": [
        "print(\" Precision Score:\", sklearn.metrics.precision_score(y_test, y_pred))\n",
        "print(\" Recall Score :\", sklearn.metrics.recall_score(y_test, y_pred))"
      ]
    },
    {
      "cell_type": "code",
      "execution_count": null,
      "metadata": {
        "colab": {
          "base_uri": "https://localhost:8080/"
        },
        "id": "AUuRWavyJaGK",
        "outputId": "1a9618e0-1d81-4364-fb39-6aed03c65e3f"
      },
      "outputs": [
        {
          "name": "stdout",
          "output_type": "stream",
          "text": [
            "[[232  13]\n",
            " [ 27  22]]\n",
            "0.8639455782312925\n"
          ]
        }
      ],
      "source": [
        "from sklearn.metrics import confusion_matrix, accuracy_score\n",
        "print(confusion_matrix(y_test, y_pred))\n",
        "print(accuracy_score(y_test, y_pred))"
      ]
    },
    {
      "cell_type": "code",
      "execution_count": null,
      "metadata": {
        "colab": {
          "base_uri": "https://localhost:8080/",
          "height": 407
        },
        "id": "C-fXEK_lMj7_",
        "outputId": "7ce0d860-b009-4589-de22-c5a62e992620"
      },
      "outputs": [
        {
          "data": {
            "image/png": "[encoded data removed]",
            "text/plain": [
              "<Figure size 1000x600 with 1 Axes>"
            ]
          },
          "metadata": {},
          "output_type": "display_data"
        }
      ],
      "source": [
        "sns.set(font_scale = 1.5)\n",
        "def plot_confusion_matrix(y_test, y_pred):\n",
        "  fig, ax = plt.subplots(figsize = (10,6))\n",
        "  ax = sns.heatmap(confusion_matrix(y_test, y_pred),\n",
        "                   annot = True,\n",
        "                   cbar = False)\n",
        "  plt.xlabel(\"True Label\")\n",
        "  plt.ylabel(\"predicted label\")\n",
        "\n",
        "plot_confusion_matrix(y_test, y_pred)"
      ]
    },
    {
      "cell_type": "markdown",
      "metadata": {
        "id": "tbXXLtxlMqXY"
      },
      "source": [
        "***"
      ]
    },
    {
      "cell_type": "code",
      "execution_count": null,
      "metadata": {},
      "outputs": [
        {
          "name": "stderr",
          "output_type": "stream",
          "text": [
            "C:\\Users\\K S Ramalakshmi\\AppData\\Local\\Temp\\ipykernel_16720\\3352482001.py:5: FutureWarning: In a future version, `df.iloc[:, i] = newvals` will attempt to set the values inplace instead of always setting a new array. To retain the old behavior, use either `df[df.columns[i]] = newvals` or, if columns are non-unique, `df.isetitem(i, newvals)`\n",
            "  dataset.iloc[: ,10] = le1.fit_transform(dataset.iloc[:, 10])\n"
          ]
        }
      ],
      "source": [
        "dataset = pd.read_csv('test_data.csv')\n",
        "dataset =dataset.drop([\"Over18\"], axis = 1)\n",
        "\n",
        "le1 = LabelEncoder()\n",
        "dataset.iloc[: ,10] = le1.fit_transform(dataset.iloc[:, 10])\n",
        "\n",
        "ct1 = ColumnTransformer(transformers=[('encoder', OneHotEncoder(), [1])], remainder= \"passthrough\")\n",
        "dataset = np.array(ct1.fit_transform(dataset))\n",
        "\n",
        "ct2 = ColumnTransformer(transformers=[('encoder', OneHotEncoder(), [8])], remainder= \"passthrough\")\n",
        "dataset = np.array(ct2.fit_transform(dataset))\n",
        "\n",
        "ct3 = ColumnTransformer(transformers=[('encoder', OneHotEncoder(), [11])], remainder= \"passthrough\")\n",
        "dataset = np.array(ct3.fit_transform(dataset))\n",
        "\n",
        "ct4 = ColumnTransformer(transformers=[('encoder', OneHotEncoder(), [23])], remainder= \"passthrough\")\n",
        "dataset = np.array(ct4.fit_transform(dataset))\n",
        "\n",
        "ct5 = ColumnTransformer(transformers=[('encoder', OneHotEncoder(), [33])], remainder= \"passthrough\")\n",
        "dataset = np.array(ct5.fit_transform(dataset))\n",
        "\n",
        "le2 = LabelEncoder()\n",
        "dataset[: ,-13] = le2.fit_transform(dataset[:, -13])"
      ]
    },
    {
      "cell_type": "code",
      "execution_count": null,
      "metadata": {},
      "outputs": [
        {
          "name": "stdout",
          "output_type": "stream",
          "text": [
            "[1.0 0.0 1.0 0.0 0.0 0.0 1.0 0.0 1.0 0.0 1.0 41 1102 'Sales' 1 2\n",
            " 'Life Sciences' 1 2 94 3 2 'Sales Executive' 4 'Single' 5993 2 8 'Yes' 3\n",
            " 1 80 0 8 0 6 4 0 5]\n"
          ]
        },
        {
          "ename": "ValueError",
          "evalue": "could not convert string to float: 'Sales'",
          "output_type": "error",
          "traceback": [
            "\u001b[1;31m---------------------------------------------------------------------------\u001b[0m",
            "\u001b[1;31mValueError\u001b[0m                                Traceback (most recent call last)",
            "Cell \u001b[1;32mIn [49], line 2\u001b[0m\n\u001b[0;32m      1\u001b[0m \u001b[39mprint\u001b[39m(dataset[\u001b[39m0\u001b[39m])\n\u001b[1;32m----> 2\u001b[0m dataset \u001b[39m=\u001b[39m StandardScaler()\u001b[39m.\u001b[39;49mfit_transform(dataset)\n",
            "File \u001b[1;32mc:\\Users\\K S Ramalakshmi\\AppData\\Local\\Programs\\Python\\Python310\\lib\\site-packages\\sklearn\\base.py:867\u001b[0m, in \u001b[0;36mTransformerMixin.fit_transform\u001b[1;34m(self, X, y, **fit_params)\u001b[0m\n\u001b[0;32m    863\u001b[0m \u001b[39m# non-optimized default implementation; override when a better\u001b[39;00m\n\u001b[0;32m    864\u001b[0m \u001b[39m# method is possible for a given clustering algorithm\u001b[39;00m\n\u001b[0;32m    865\u001b[0m \u001b[39mif\u001b[39;00m y \u001b[39mis\u001b[39;00m \u001b[39mNone\u001b[39;00m:\n\u001b[0;32m    866\u001b[0m     \u001b[39m# fit method of arity 1 (unsupervised transformation)\u001b[39;00m\n\u001b[1;32m--> 867\u001b[0m     \u001b[39mreturn\u001b[39;00m \u001b[39mself\u001b[39m\u001b[39m.\u001b[39mfit(X, \u001b[39m*\u001b[39m\u001b[39m*\u001b[39mfit_params)\u001b[39m.\u001b[39mtransform(X)\n\u001b[0;32m    868\u001b[0m \u001b[39melse\u001b[39;00m:\n\u001b[0;32m    869\u001b[0m     \u001b[39m# fit method of arity 2 (supervised transformation)\u001b[39;00m\n\u001b[0;32m    870\u001b[0m     \u001b[39mreturn\u001b[39;00m \u001b[39mself\u001b[39m\u001b[39m.\u001b[39mfit(X, y, \u001b[39m*\u001b[39m\u001b[39m*\u001b[39mfit_params)\u001b[39m.\u001b[39mtransform(X)\n",
            "File \u001b[1;32mc:\\Users\\K S Ramalakshmi\\AppData\\Local\\Programs\\Python\\Python310\\lib\\site-packages\\sklearn\\preprocessing\\_data.py:809\u001b[0m, in \u001b[0;36mStandardScaler.fit\u001b[1;34m(self, X, y, sample_weight)\u001b[0m\n\u001b[0;32m    807\u001b[0m \u001b[39m# Reset internal state before fitting\u001b[39;00m\n\u001b[0;32m    808\u001b[0m \u001b[39mself\u001b[39m\u001b[39m.\u001b[39m_reset()\n\u001b[1;32m--> 809\u001b[0m \u001b[39mreturn\u001b[39;00m \u001b[39mself\u001b[39;49m\u001b[39m.\u001b[39;49mpartial_fit(X, y, sample_weight)\n",
            "File \u001b[1;32mc:\\Users\\K S Ramalakshmi\\AppData\\Local\\Programs\\Python\\Python310\\lib\\site-packages\\sklearn\\preprocessing\\_data.py:844\u001b[0m, in \u001b[0;36mStandardScaler.partial_fit\u001b[1;34m(self, X, y, sample_weight)\u001b[0m\n\u001b[0;32m    812\u001b[0m \u001b[39m\"\"\"Online computation of mean and std on X for later scaling.\u001b[39;00m\n\u001b[0;32m    813\u001b[0m \n\u001b[0;32m    814\u001b[0m \u001b[39mAll of X is processed as a single batch. This is intended for cases\u001b[39;00m\n\u001b[1;32m   (...)\u001b[0m\n\u001b[0;32m    841\u001b[0m \u001b[39m    Fitted scaler.\u001b[39;00m\n\u001b[0;32m    842\u001b[0m \u001b[39m\"\"\"\u001b[39;00m\n\u001b[0;32m    843\u001b[0m first_call \u001b[39m=\u001b[39m \u001b[39mnot\u001b[39;00m \u001b[39mhasattr\u001b[39m(\u001b[39mself\u001b[39m, \u001b[39m\"\u001b[39m\u001b[39mn_samples_seen_\u001b[39m\u001b[39m\"\u001b[39m)\n\u001b[1;32m--> 844\u001b[0m X \u001b[39m=\u001b[39m \u001b[39mself\u001b[39;49m\u001b[39m.\u001b[39;49m_validate_data(\n\u001b[0;32m    845\u001b[0m     X,\n\u001b[0;32m    846\u001b[0m     accept_sparse\u001b[39m=\u001b[39;49m(\u001b[39m\"\u001b[39;49m\u001b[39mcsr\u001b[39;49m\u001b[39m\"\u001b[39;49m, \u001b[39m\"\u001b[39;49m\u001b[39mcsc\u001b[39;49m\u001b[39m\"\u001b[39;49m),\n\u001b[0;32m    847\u001b[0m     dtype\u001b[39m=\u001b[39;49mFLOAT_DTYPES,\n\u001b[0;32m    848\u001b[0m     force_all_finite\u001b[39m=\u001b[39;49m\u001b[39m\"\u001b[39;49m\u001b[39mallow-nan\u001b[39;49m\u001b[39m\"\u001b[39;49m,\n\u001b[0;32m    849\u001b[0m     reset\u001b[39m=\u001b[39;49mfirst_call,\n\u001b[0;32m    850\u001b[0m )\n\u001b[0;32m    851\u001b[0m n_features \u001b[39m=\u001b[39m X\u001b[39m.\u001b[39mshape[\u001b[39m1\u001b[39m]\n\u001b[0;32m    853\u001b[0m \u001b[39mif\u001b[39;00m sample_weight \u001b[39mis\u001b[39;00m \u001b[39mnot\u001b[39;00m \u001b[39mNone\u001b[39;00m:\n",
            "File \u001b[1;32mc:\\Users\\K S Ramalakshmi\\AppData\\Local\\Programs\\Python\\Python310\\lib\\site-packages\\sklearn\\base.py:577\u001b[0m, in \u001b[0;36mBaseEstimator._validate_data\u001b[1;34m(self, X, y, reset, validate_separately, **check_params)\u001b[0m\n\u001b[0;32m    575\u001b[0m     \u001b[39mraise\u001b[39;00m \u001b[39mValueError\u001b[39;00m(\u001b[39m\"\u001b[39m\u001b[39mValidation should be done on X, y or both.\u001b[39m\u001b[39m\"\u001b[39m)\n\u001b[0;32m    576\u001b[0m \u001b[39melif\u001b[39;00m \u001b[39mnot\u001b[39;00m no_val_X \u001b[39mand\u001b[39;00m no_val_y:\n\u001b[1;32m--> 577\u001b[0m     X \u001b[39m=\u001b[39m check_array(X, input_name\u001b[39m=\u001b[39m\u001b[39m\"\u001b[39m\u001b[39mX\u001b[39m\u001b[39m\"\u001b[39m, \u001b[39m*\u001b[39m\u001b[39m*\u001b[39mcheck_params)\n\u001b[0;32m    578\u001b[0m     out \u001b[39m=\u001b[39m X\n\u001b[0;32m    579\u001b[0m \u001b[39melif\u001b[39;00m no_val_X \u001b[39mand\u001b[39;00m \u001b[39mnot\u001b[39;00m no_val_y:\n",
            "File \u001b[1;32mc:\\Users\\K S Ramalakshmi\\AppData\\Local\\Programs\\Python\\Python310\\lib\\site-packages\\sklearn\\utils\\validation.py:856\u001b[0m, in \u001b[0;36mcheck_array\u001b[1;34m(array, accept_sparse, accept_large_sparse, dtype, order, copy, force_all_finite, ensure_2d, allow_nd, ensure_min_samples, ensure_min_features, estimator, input_name)\u001b[0m\n\u001b[0;32m    854\u001b[0m         array \u001b[39m=\u001b[39m array\u001b[39m.\u001b[39mastype(dtype, casting\u001b[39m=\u001b[39m\u001b[39m\"\u001b[39m\u001b[39munsafe\u001b[39m\u001b[39m\"\u001b[39m, copy\u001b[39m=\u001b[39m\u001b[39mFalse\u001b[39;00m)\n\u001b[0;32m    855\u001b[0m     \u001b[39melse\u001b[39;00m:\n\u001b[1;32m--> 856\u001b[0m         array \u001b[39m=\u001b[39m np\u001b[39m.\u001b[39;49masarray(array, order\u001b[39m=\u001b[39;49morder, dtype\u001b[39m=\u001b[39;49mdtype)\n\u001b[0;32m    857\u001b[0m \u001b[39mexcept\u001b[39;00m ComplexWarning \u001b[39mas\u001b[39;00m complex_warning:\n\u001b[0;32m    858\u001b[0m     \u001b[39mraise\u001b[39;00m \u001b[39mValueError\u001b[39;00m(\n\u001b[0;32m    859\u001b[0m         \u001b[39m\"\u001b[39m\u001b[39mComplex data not supported\u001b[39m\u001b[39m\\n\u001b[39;00m\u001b[39m{}\u001b[39;00m\u001b[39m\\n\u001b[39;00m\u001b[39m\"\u001b[39m\u001b[39m.\u001b[39mformat(array)\n\u001b[0;32m    860\u001b[0m     ) \u001b[39mfrom\u001b[39;00m \u001b[39mcomplex_warning\u001b[39;00m\n",
            "\u001b[1;31mValueError\u001b[0m: could not convert string to float: 'Sales'"
          ]
        }
      ],
      "source": [
        "print(dataset[0])\n",
        "dataset = StandardScaler().fit_transform(dataset)"
      ]
    },
    {
      "cell_type": "code",
      "execution_count": null,
      "metadata": {},
      "outputs": [],
      "source": []
    }
  ],
  "metadata": {
    "accelerator": "GPU",
    "colab": {
      "provenance": []
    },
    "kernelspec": {
      "display_name": "Python 3.10.7 64-bit",
      "language": "python",
      "name": "python3"
    },
    "language_info": {
      "codemirror_mode": {
        "name": "ipython",
        "version": 3
      },
      "file_extension": ".py",
      "mimetype": "text/x-python",
      "name": "python",
      "nbconvert_exporter": "python",
      "pygments_lexer": "ipython3",
      "version": "3.10.7"
    },
    "vscode": {
      "interpreter": {
        "hash": "e8d5045672edb5217904faf81e0f235e9113d7498d5a2e04c0e17d8208e3e5eb"
      }
    }
  },
  "nbformat": 4,
  "nbformat_minor": 0
}
